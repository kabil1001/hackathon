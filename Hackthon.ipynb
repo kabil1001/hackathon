{
 "cells": [
  {
   "cell_type": "code",
   "execution_count": 1,
   "metadata": {
    "scrolled": false
   },
   "outputs": [],
   "source": [
    "import pandas as pd\n",
    "import numpy as np\n"
   ]
  },
  {
   "cell_type": "code",
   "execution_count": 2,
   "metadata": {},
   "outputs": [],
   "source": [
    "data = pd.read_csv(\"C:/Users/kxj133/Downloads/New folder/train_5CLrC8b/train.csv\")"
   ]
  },
  {
   "cell_type": "code",
   "execution_count": 3,
   "metadata": {},
   "outputs": [],
   "source": [
    "test = pd.read_csv(\"C:/Users/kxj133/Downloads/New folder/test_Jwt0MQH/test.csv\")"
   ]
  },
  {
   "cell_type": "code",
   "execution_count": 4,
   "metadata": {
    "scrolled": true
   },
   "outputs": [
    {
     "data": {
      "text/plain": [
       "Index(['reservation_id', 'booking_date', 'checkin_date', 'checkout_date',\n",
       "       'channel_code', 'main_product_code', 'numberofadults',\n",
       "       'numberofchildren', 'persontravellingid', 'resort_region_code',\n",
       "       'resort_type_code', 'room_type_booked_code', 'roomnights',\n",
       "       'season_holidayed_code', 'state_code_residence', 'state_code_resort',\n",
       "       'total_pax', 'member_age_buckets', 'booking_type_code', 'memberid',\n",
       "       'cluster_code', 'reservationstatusid_code', 'resort_id',\n",
       "       'amount_spent_per_room_night_scaled'],\n",
       "      dtype='object')"
      ]
     },
     "execution_count": 4,
     "metadata": {},
     "output_type": "execute_result"
    }
   ],
   "source": [
    "data.columns"
   ]
  },
  {
   "cell_type": "code",
   "execution_count": 5,
   "metadata": {},
   "outputs": [
    {
     "data": {
      "text/html": [
       "<div>\n",
       "<style scoped>\n",
       "    .dataframe tbody tr th:only-of-type {\n",
       "        vertical-align: middle;\n",
       "    }\n",
       "\n",
       "    .dataframe tbody tr th {\n",
       "        vertical-align: top;\n",
       "    }\n",
       "\n",
       "    .dataframe thead th {\n",
       "        text-align: right;\n",
       "    }\n",
       "</style>\n",
       "<table border=\"1\" class=\"dataframe\">\n",
       "  <thead>\n",
       "    <tr style=\"text-align: right;\">\n",
       "      <th></th>\n",
       "      <th>reservation_id</th>\n",
       "      <th>booking_date</th>\n",
       "      <th>checkin_date</th>\n",
       "      <th>checkout_date</th>\n",
       "      <th>channel_code</th>\n",
       "      <th>main_product_code</th>\n",
       "      <th>numberofadults</th>\n",
       "      <th>numberofchildren</th>\n",
       "      <th>persontravellingid</th>\n",
       "      <th>resort_region_code</th>\n",
       "      <th>...</th>\n",
       "      <th>state_code_residence</th>\n",
       "      <th>state_code_resort</th>\n",
       "      <th>total_pax</th>\n",
       "      <th>member_age_buckets</th>\n",
       "      <th>booking_type_code</th>\n",
       "      <th>memberid</th>\n",
       "      <th>cluster_code</th>\n",
       "      <th>reservationstatusid_code</th>\n",
       "      <th>resort_id</th>\n",
       "      <th>amount_spent_per_room_night_scaled</th>\n",
       "    </tr>\n",
       "  </thead>\n",
       "  <tbody>\n",
       "    <tr>\n",
       "      <th>0</th>\n",
       "      <td>07659f3758d8aee27f5a7e2887adeacb67021cb95ada1b...</td>\n",
       "      <td>05/04/18</td>\n",
       "      <td>05/04/18</td>\n",
       "      <td>06/04/18</td>\n",
       "      <td>3</td>\n",
       "      <td>1</td>\n",
       "      <td>2</td>\n",
       "      <td>0</td>\n",
       "      <td>46</td>\n",
       "      <td>3</td>\n",
       "      <td>...</td>\n",
       "      <td>7.0</td>\n",
       "      <td>3</td>\n",
       "      <td>3</td>\n",
       "      <td>F</td>\n",
       "      <td>1</td>\n",
       "      <td>3d1539e56495b6991f0a3ef5a61ca3d03ce4fff7380e9a...</td>\n",
       "      <td>F</td>\n",
       "      <td>C</td>\n",
       "      <td>4e07408562bedb8b60ce05c1decfe3ad16b72230967de0...</td>\n",
       "      <td>7.706428</td>\n",
       "    </tr>\n",
       "    <tr>\n",
       "      <th>1</th>\n",
       "      <td>03930f033646d073462b35d411616323597715ac4fc398...</td>\n",
       "      <td>23/01/15</td>\n",
       "      <td>11/04/15</td>\n",
       "      <td>16/04/15</td>\n",
       "      <td>1</td>\n",
       "      <td>1</td>\n",
       "      <td>2</td>\n",
       "      <td>0</td>\n",
       "      <td>46</td>\n",
       "      <td>3</td>\n",
       "      <td>...</td>\n",
       "      <td>7.0</td>\n",
       "      <td>5</td>\n",
       "      <td>2</td>\n",
       "      <td>F</td>\n",
       "      <td>1</td>\n",
       "      <td>3d1539e56495b6991f0a3ef5a61ca3d03ce4fff7380e9a...</td>\n",
       "      <td>F</td>\n",
       "      <td>A</td>\n",
       "      <td>39fa9ec190eee7b6f4dff1100d6343e10918d044c75eac...</td>\n",
       "      <td>6.662563</td>\n",
       "    </tr>\n",
       "    <tr>\n",
       "      <th>2</th>\n",
       "      <td>d145a32920e6587ad95bfe299d80c0affa268220535aaf...</td>\n",
       "      <td>28/01/15</td>\n",
       "      <td>01/02/15</td>\n",
       "      <td>05/02/15</td>\n",
       "      <td>1</td>\n",
       "      <td>1</td>\n",
       "      <td>2</td>\n",
       "      <td>0</td>\n",
       "      <td>47</td>\n",
       "      <td>1</td>\n",
       "      <td>...</td>\n",
       "      <td>7.0</td>\n",
       "      <td>1</td>\n",
       "      <td>2</td>\n",
       "      <td>F</td>\n",
       "      <td>1</td>\n",
       "      <td>3d1539e56495b6991f0a3ef5a61ca3d03ce4fff7380e9a...</td>\n",
       "      <td>E</td>\n",
       "      <td>A</td>\n",
       "      <td>535fa30d7e25dd8a49f1536779734ec8286108d115da50...</td>\n",
       "      <td>7.871602</td>\n",
       "    </tr>\n",
       "    <tr>\n",
       "      <th>3</th>\n",
       "      <td>cfd77f44811ed62f25a220b53324cdbafc662a4c9e5f04...</td>\n",
       "      <td>02/05/15</td>\n",
       "      <td>11/06/15</td>\n",
       "      <td>16/06/15</td>\n",
       "      <td>1</td>\n",
       "      <td>1</td>\n",
       "      <td>2</td>\n",
       "      <td>2</td>\n",
       "      <td>46</td>\n",
       "      <td>2</td>\n",
       "      <td>...</td>\n",
       "      <td>7.0</td>\n",
       "      <td>2</td>\n",
       "      <td>2</td>\n",
       "      <td>F</td>\n",
       "      <td>1</td>\n",
       "      <td>3d1539e56495b6991f0a3ef5a61ca3d03ce4fff7380e9a...</td>\n",
       "      <td>D</td>\n",
       "      <td>A</td>\n",
       "      <td>d4735e3a265e16eee03f59718b9b5d03019c07d8b6c51f...</td>\n",
       "      <td>5.344943</td>\n",
       "    </tr>\n",
       "    <tr>\n",
       "      <th>4</th>\n",
       "      <td>937cff9e4dcfc2459620153dfc8b9962ac22bea67dfb29...</td>\n",
       "      <td>02/09/15</td>\n",
       "      <td>14/12/15</td>\n",
       "      <td>19/12/15</td>\n",
       "      <td>1</td>\n",
       "      <td>1</td>\n",
       "      <td>2</td>\n",
       "      <td>0</td>\n",
       "      <td>46</td>\n",
       "      <td>2</td>\n",
       "      <td>...</td>\n",
       "      <td>7.0</td>\n",
       "      <td>2</td>\n",
       "      <td>2</td>\n",
       "      <td>F</td>\n",
       "      <td>1</td>\n",
       "      <td>3d1539e56495b6991f0a3ef5a61ca3d03ce4fff7380e9a...</td>\n",
       "      <td>D</td>\n",
       "      <td>A</td>\n",
       "      <td>d4735e3a265e16eee03f59718b9b5d03019c07d8b6c51f...</td>\n",
       "      <td>7.059346</td>\n",
       "    </tr>\n",
       "  </tbody>\n",
       "</table>\n",
       "<p>5 rows × 24 columns</p>\n",
       "</div>"
      ],
      "text/plain": [
       "                                      reservation_id booking_date  \\\n",
       "0  07659f3758d8aee27f5a7e2887adeacb67021cb95ada1b...     05/04/18   \n",
       "1  03930f033646d073462b35d411616323597715ac4fc398...     23/01/15   \n",
       "2  d145a32920e6587ad95bfe299d80c0affa268220535aaf...     28/01/15   \n",
       "3  cfd77f44811ed62f25a220b53324cdbafc662a4c9e5f04...     02/05/15   \n",
       "4  937cff9e4dcfc2459620153dfc8b9962ac22bea67dfb29...     02/09/15   \n",
       "\n",
       "  checkin_date checkout_date  channel_code  main_product_code  numberofadults  \\\n",
       "0     05/04/18      06/04/18             3                  1               2   \n",
       "1     11/04/15      16/04/15             1                  1               2   \n",
       "2     01/02/15      05/02/15             1                  1               2   \n",
       "3     11/06/15      16/06/15             1                  1               2   \n",
       "4     14/12/15      19/12/15             1                  1               2   \n",
       "\n",
       "   numberofchildren  persontravellingid  resort_region_code  \\\n",
       "0                 0                  46                   3   \n",
       "1                 0                  46                   3   \n",
       "2                 0                  47                   1   \n",
       "3                 2                  46                   2   \n",
       "4                 0                  46                   2   \n",
       "\n",
       "                 ...                  state_code_residence  state_code_resort  \\\n",
       "0                ...                                   7.0                  3   \n",
       "1                ...                                   7.0                  5   \n",
       "2                ...                                   7.0                  1   \n",
       "3                ...                                   7.0                  2   \n",
       "4                ...                                   7.0                  2   \n",
       "\n",
       "   total_pax  member_age_buckets  booking_type_code  \\\n",
       "0          3                   F                  1   \n",
       "1          2                   F                  1   \n",
       "2          2                   F                  1   \n",
       "3          2                   F                  1   \n",
       "4          2                   F                  1   \n",
       "\n",
       "                                            memberid  cluster_code  \\\n",
       "0  3d1539e56495b6991f0a3ef5a61ca3d03ce4fff7380e9a...             F   \n",
       "1  3d1539e56495b6991f0a3ef5a61ca3d03ce4fff7380e9a...             F   \n",
       "2  3d1539e56495b6991f0a3ef5a61ca3d03ce4fff7380e9a...             E   \n",
       "3  3d1539e56495b6991f0a3ef5a61ca3d03ce4fff7380e9a...             D   \n",
       "4  3d1539e56495b6991f0a3ef5a61ca3d03ce4fff7380e9a...             D   \n",
       "\n",
       "  reservationstatusid_code                                          resort_id  \\\n",
       "0                        C  4e07408562bedb8b60ce05c1decfe3ad16b72230967de0...   \n",
       "1                        A  39fa9ec190eee7b6f4dff1100d6343e10918d044c75eac...   \n",
       "2                        A  535fa30d7e25dd8a49f1536779734ec8286108d115da50...   \n",
       "3                        A  d4735e3a265e16eee03f59718b9b5d03019c07d8b6c51f...   \n",
       "4                        A  d4735e3a265e16eee03f59718b9b5d03019c07d8b6c51f...   \n",
       "\n",
       "  amount_spent_per_room_night_scaled  \n",
       "0                           7.706428  \n",
       "1                           6.662563  \n",
       "2                           7.871602  \n",
       "3                           5.344943  \n",
       "4                           7.059346  \n",
       "\n",
       "[5 rows x 24 columns]"
      ]
     },
     "execution_count": 5,
     "metadata": {},
     "output_type": "execute_result"
    }
   ],
   "source": [
    "data.head()"
   ]
  },
  {
   "cell_type": "code",
   "execution_count": 6,
   "metadata": {},
   "outputs": [
    {
     "data": {
      "text/plain": [
       "['4e07408562bedb8b60ce05c1decfe3ad16b72230967de01f640b7e4729b49fce',\n",
       " '39fa9ec190eee7b6f4dff1100d6343e10918d044c75eac8f9e9a2596173f80c9',\n",
       " '535fa30d7e25dd8a49f1536779734ec8286108d115da5045d77f3b4185d8f790',\n",
       " 'd4735e3a265e16eee03f59718b9b5d03019c07d8b6c51f90da3a666eec13ab35',\n",
       " 'b17ef6d19c7a5b1ee83b907c595526dcb1eb06db8227d650d5dda0a9f4ce8cd9',\n",
       " 'ff5a1ae012afa5d4c889c50ad427aaf545d31a4fac04ffc1c4d03d403ba4250a',\n",
       " '0b918943df0962bc7a1824c0555a389347b4febdc7cf9d1254406d80ce44e3f9',\n",
       " 'a68b412c4282555f15546cf6e1fc42893b7e07f271557ceb021821098dd66c1b',\n",
       " '7f2253d7e228b22a08bda1f09c516f6fead81df6536eb02fa991a34bb38d9be8',\n",
       " '4ec9599fc203d176a301536c2e091a19bc852759b255bd6818810a42c5fed14a',\n",
       " '49d180ecf56132819571bf39d9b7b342522a2ac6d23c1418d3338251bfe469c8',\n",
       " 'e7f6c011776e8db7cd330b54174fd76f7d0216b612387a5ffcfb81e6f0919683',\n",
       " '624b60c58c9d8bfb6ff1886c2fd605d2adeb6ea4da576068201b6c6958ce93f4',\n",
       " '3e1e967e9b793e908f8eae83c74dba9bcccce6a5535b4b462bd9994537bfe15c',\n",
       " '9f14025af0065b30e47e23ebb3b491d39ae8ed17d33739e5ff3827ffb3634953',\n",
       " 'e29c9c180c6279b0b02abd6a1801c7c04082cf486ec027aa13515e4f3884bb6b',\n",
       " 'da4ea2a5506f2693eae190d9360a1f31793c98a1adade51d93533a6f520ace1c',\n",
       " '9400f1b21cb527d7fa3d3eabba93557a18ebe7a2ca4e471cfe5e4c5b4ca7f767',\n",
       " '48449a14a4ff7d79bb7a1b6f3d488eba397c36ef25634c111b49baf362511afc',\n",
       " '6b86b273ff34fce19d6b804eff5a3f5747ada4eaa22f1d49c01e52ddb7875b4b',\n",
       " '670671cd97404156226e507973f2ab8330d3022ca96e0c93bdbdb320c41adcaf',\n",
       " 'f5ca38f748a1d6eaf726b8a42fb575c3c71f1864a8143301782de13da2d9202b',\n",
       " 'c6f3ac57944a531490cd39902d0f777715fd005efac9a30622d5f5205e7f6894',\n",
       " '81b8a03f97e8787c53fe1a86bda042b6f0de9b0ec9c09357e107c99ba4d6948a',\n",
       " 'c75cb66ae28d8ebc6eded002c28a8ba0d06d3a78c6b5cbf9b2ade051f0775ac4',\n",
       " '7902699be42c8a8e46fbbb4501726517e86b22c56a189f7625a6da49081b2451',\n",
       " '6208ef0f7750c111548cf90b6ea1d0d0a66f6bff40dbef07cb45ec436263c7d6',\n",
       " 'ef2d127de37b942baad06145e54b0c619a1f22327b2ebbcfbec78f5564afe39d',\n",
       " '8722616204217eddb39e7df969e0698aed8e599ba62ed2de1ce49b03ade0fede',\n",
       " '3fdba35f04dc8c462986c992bcf875546257113072a909c162f7e470e581e278',\n",
       " '4b227777d4dd1fc61c6f884f48641d02b4d121d3fd328cb08b5531fcacdabf8a',\n",
       " '98a3ab7c340e8a033e7b37b6ef9428751581760af67bbab2b9e05d4964a8874a']"
      ]
     },
     "execution_count": 6,
     "metadata": {},
     "output_type": "execute_result"
    }
   ],
   "source": [
    "data['cluster_code'].value_counts()\n",
    "\n",
    "data['reservationstatusid_code'].value_counts()\n",
    "\n",
    "data['resort_id'].unique().tolist()"
   ]
  },
  {
   "cell_type": "code",
   "execution_count": 7,
   "metadata": {},
   "outputs": [],
   "source": [
    "### Creating function for finding the difference between dates\n",
    "\n",
    "from datetime import datetime\n",
    "def days_between(d1, d2):\n",
    "    d1 = datetime.strptime(d1, \"%d/%m/%y\")\n",
    "    d2 = datetime.strptime(d2, \"%d/%m/%y\")\n",
    "    return abs((d2 - d1).days)"
   ]
  },
  {
   "cell_type": "code",
   "execution_count": 8,
   "metadata": {},
   "outputs": [
    {
     "ename": "AttributeError",
     "evalue": "'NoneType' object has no attribute 'append'",
     "output_type": "error",
     "traceback": [
      "\u001b[1;31m---------------------------------------------------------------------------\u001b[0m",
      "\u001b[1;31mAttributeError\u001b[0m                            Traceback (most recent call last)",
      "\u001b[1;32m<ipython-input-8-7358b15a7406>\u001b[0m in \u001b[0;36m<module>\u001b[1;34m()\u001b[0m\n\u001b[0;32m      4\u001b[0m \u001b[1;32mfor\u001b[0m \u001b[0mindex\u001b[0m\u001b[1;33m,\u001b[0m \u001b[0mrow\u001b[0m \u001b[1;32min\u001b[0m \u001b[0mdata\u001b[0m\u001b[1;33m.\u001b[0m\u001b[0miterrows\u001b[0m\u001b[1;33m(\u001b[0m\u001b[1;33m)\u001b[0m\u001b[1;33m:\u001b[0m\u001b[1;33m\u001b[0m\u001b[0m\n\u001b[0;32m      5\u001b[0m     \u001b[0mi\u001b[0m \u001b[1;33m=\u001b[0m \u001b[0mdays_between\u001b[0m\u001b[1;33m(\u001b[0m\u001b[0mrow\u001b[0m\u001b[1;33m[\u001b[0m\u001b[1;34m'booking_date'\u001b[0m\u001b[1;33m]\u001b[0m\u001b[1;33m,\u001b[0m\u001b[0mrow\u001b[0m\u001b[1;33m[\u001b[0m\u001b[1;34m'checkin_date'\u001b[0m\u001b[1;33m]\u001b[0m\u001b[1;33m)\u001b[0m\u001b[1;33m\u001b[0m\u001b[0m\n\u001b[1;32m----> 6\u001b[1;33m     \u001b[0mdays_between_booking_checkin\u001b[0m \u001b[1;33m=\u001b[0m \u001b[0mdays_between_booking_checkin\u001b[0m\u001b[1;33m.\u001b[0m\u001b[0mappend\u001b[0m\u001b[1;33m(\u001b[0m\u001b[0mi\u001b[0m\u001b[1;33m)\u001b[0m\u001b[1;33m\u001b[0m\u001b[0m\n\u001b[0m",
      "\u001b[1;31mAttributeError\u001b[0m: 'NoneType' object has no attribute 'append'"
     ]
    }
   ],
   "source": [
    "# days between booking and checkin date\n",
    "\n",
    "days_between_booking_checkin = []\n",
    "for index, row in data.iterrows():\n",
    "    i = days_between(row['booking_date'],row['checkin_date'])\n",
    "    days_between_booking_checkin = days_between_booking_checkin.append(i)"
   ]
  },
  {
   "cell_type": "code",
   "execution_count": null,
   "metadata": {},
   "outputs": [],
   "source": [
    "### days between checkin and checkout dates\n",
    "\n",
    "days_between_checkin_checkout = []\n",
    "for index, row in data.iterrows():\n",
    "    i = days_between(row['checkin_date'],row['checkout_date'])\n",
    "    days_between_checkin_checkout = days_between_checkin_checkout.append(i)"
   ]
  },
  {
   "cell_type": "code",
   "execution_count": null,
   "metadata": {},
   "outputs": [],
   "source": [
    "data['days_between_booking_checkin'] = pd.Series(\"days_between_booking_checkin\")"
   ]
  },
  {
   "cell_type": "code",
   "execution_count": null,
   "metadata": {},
   "outputs": [],
   "source": [
    "data['days_between_checkin_checkout'] = pd.Series(\"days_between_checkin_checkout\")"
   ]
  },
  {
   "cell_type": "code",
   "execution_count": null,
   "metadata": {},
   "outputs": [],
   "source": [
    "test['channel_code'].unique()"
   ]
  },
  {
   "cell_type": "code",
   "execution_count": null,
   "metadata": {},
   "outputs": [],
   "source": [
    "##Giving the names to channel codes to create the dummy variables\n",
    "data['channel_code'].unique()\n",
    "\n",
    "channel  = data['channel_code'] \n",
    "\n",
    "channel = pd.DataFrame({\"channel\" : channel})\n",
    "\n",
    "channel_dummies = pd.get_dummies(channel['channel'])\n",
    "\n",
    "channel_dummies[\"channel_1\"] = channel_dummies[1]\n",
    "channel_dummies[\"channel_2\"] = channel_dummies[2]\n",
    "channel_dummies[\"channel_3\"] = channel_dummies[3]\n",
    "\n",
    "channel_dummies = channel_dummies.drop([1,2,3],1)"
   ]
  },
  {
   "cell_type": "code",
   "execution_count": null,
   "metadata": {},
   "outputs": [],
   "source": [
    "type(channel_dummies)"
   ]
  },
  {
   "cell_type": "code",
   "execution_count": null,
   "metadata": {},
   "outputs": [],
   "source": [
    "test['main_product_code'].unique()"
   ]
  },
  {
   "cell_type": "code",
   "execution_count": null,
   "metadata": {},
   "outputs": [],
   "source": [
    "##Giving the names to main product codes to create the dummy variables\n",
    "data['main_product_code'].unique()\n",
    "\n",
    "main_product_code = data['main_product_code'] \n",
    "\n",
    "main_product_code = pd.DataFrame({\"main_product_code\" :main_product_code})\n",
    "\n",
    "main_product_code_dummies = pd.get_dummies(main_product_code['main_product_code'])\n",
    "\n",
    "main_product_code_dummies[\"main_product_code_1\"] = main_product_code_dummies[1]\n",
    "main_product_code_dummies[\"main_product_code_2\"] = main_product_code_dummies[2]\n",
    "main_product_code_dummies[\"main_product_code_3\"] = main_product_code_dummies[3]\n",
    "main_product_code_dummies[\"main_product_code_4\"] = main_product_code_dummies[4]\n",
    "main_product_code_dummies[\"main_product_code_7\"] = main_product_code_dummies[7]\n",
    "\n",
    "main_product_code_dummies = main_product_code_dummies.drop([1,2,3,4,7],1)\n"
   ]
  },
  {
   "cell_type": "code",
   "execution_count": null,
   "metadata": {},
   "outputs": [],
   "source": [
    "test['persontravellingid'].unique()"
   ]
  },
  {
   "cell_type": "code",
   "execution_count": null,
   "metadata": {},
   "outputs": [],
   "source": [
    "##Giving the names to person travelling id codes to create the dummy variables\n",
    "data['persontravellingid'].unique()\n",
    "\n",
    "persontravellingid = data['persontravellingid'] \n",
    "\n",
    "persontravellingid = pd.DataFrame({\"persontravellingid\" :persontravellingid})\n",
    "\n",
    "persontravellingid_dummies = pd.get_dummies(persontravellingid['persontravellingid'])\n",
    "\n",
    "persontravellingid_dummies[\"persontravellingid_45\"] = persontravellingid_dummies[45]\n",
    "persontravellingid_dummies[\"persontravellingid_46\"] = persontravellingid_dummies[46]\n",
    "persontravellingid_dummies[\"persontravellingid_47\"] = persontravellingid_dummies[47]\n",
    "persontravellingid_dummies[\"persontravellingid_4752\"] = persontravellingid_dummies[4752]\n",
    "persontravellingid_dummies[\"persontravellingid_4753\"] = persontravellingid_dummies[4753]\n",
    "persontravellingid_dummies[\"persontravellingid_4995\"] = persontravellingid_dummies[4995]\n",
    "\n",
    "persontravellingid_dummies = persontravellingid_dummies.drop([ 46,   47,   45, 4752, 4753, 4995],1)"
   ]
  },
  {
   "cell_type": "code",
   "execution_count": null,
   "metadata": {},
   "outputs": [],
   "source": [
    "data['resort_region_code'].unique()"
   ]
  },
  {
   "cell_type": "code",
   "execution_count": null,
   "metadata": {},
   "outputs": [],
   "source": [
    "##Giving the names to resort region codes to create the dummy variables\n",
    "data['resort_region_code'].unique()\n",
    "\n",
    "resort_region_code  = data['resort_region_code'] \n",
    "\n",
    "resort_region_code = pd.DataFrame({\"resort_region_code\" : resort_region_code})\n",
    "\n",
    "resort_region_code_dummies = pd.get_dummies(resort_region_code['resort_region_code'])\n",
    "\n",
    "resort_region_code_dummies[\"resort_region_code_1\"] = resort_region_code_dummies[1]\n",
    "resort_region_code_dummies[\"resort_region_code_2\"] = resort_region_code_dummies[2]\n",
    "resort_region_code_dummies[\"resort_region_code_3\"] = resort_region_code_dummies[3]\n",
    "\n",
    "resort_region_code_dummies = resort_region_code_dummies.drop([1,2,3],1)"
   ]
  },
  {
   "cell_type": "code",
   "execution_count": null,
   "metadata": {},
   "outputs": [],
   "source": [
    "data['resort_type_code'].unique()"
   ]
  },
  {
   "cell_type": "code",
   "execution_count": null,
   "metadata": {},
   "outputs": [],
   "source": [
    "##Giving the names to resort type codes to create the dummy variables\n",
    "data['resort_type_code'].unique()\n",
    "\n",
    "resort_type_code = data['resort_type_code'] \n",
    "\n",
    "resort_type_code = pd.DataFrame({\"resort_type_code\" :resort_type_code})\n",
    "\n",
    "resort_type_code_dummies = pd.get_dummies(resort_type_code['resort_type_code'])\n",
    "\n",
    "resort_type_code_dummies[\"main_product_code_0\"] = resort_type_code_dummies[0]\n",
    "resort_type_code_dummies[\"resort_type_code_1\"] = resort_type_code_dummies[1]\n",
    "resort_type_code_dummies[\"resort_type_code_2\"] = resort_type_code_dummies[2]\n",
    "resort_type_code_dummies[\"resort_type_code_3\"] = resort_type_code_dummies[3]\n",
    "resort_type_code_dummies[\"main_product_code_4\"] = resort_type_code_dummies[4]\n",
    "resort_type_code_dummies[\"main_product_code_5\"] = resort_type_code_dummies[5]\n",
    "resort_type_code_dummies[\"main_product_code_7\"] = resort_type_code_dummies[7]\n",
    "\n",
    "resort_type_code_dummies = resort_type_code_dummies.drop([3, 5, 2, 1, 7, 4, 0],1)\n"
   ]
  },
  {
   "cell_type": "code",
   "execution_count": null,
   "metadata": {},
   "outputs": [],
   "source": [
    "data['room_type_booked_code'].unique()"
   ]
  },
  {
   "cell_type": "code",
   "execution_count": null,
   "metadata": {},
   "outputs": [],
   "source": [
    "##Giving the names to room_type_booked_code to create the dummy variables\n",
    "data['room_type_booked_code'].unique()\n",
    "\n",
    "room_type_booked_code = data['room_type_booked_code'] \n",
    "\n",
    "room_type_booked_code = pd.DataFrame({\"room_type_booked_code\" :room_type_booked_code})\n",
    "\n",
    "room_type_booked_code_dummies = pd.get_dummies(room_type_booked_code['room_type_booked_code'])\n",
    "\n",
    "room_type_booked_code_dummies[\"room_type_booked_code_1\"] = room_type_booked_code_dummies[1]\n",
    "room_type_booked_code_dummies[\"room_type_booked_code_2\"] = room_type_booked_code_dummies[2]\n",
    "room_type_booked_code_dummies[\"room_type_booked_code_3\"] = room_type_booked_code_dummies[3]\n",
    "room_type_booked_code_dummies[\"room_type_booked_code_4\"] = room_type_booked_code_dummies[4]\n",
    "room_type_booked_code_dummies[\"room_type_booked_code_5\"] = room_type_booked_code_dummies[5]\n",
    "room_type_booked_code_dummies[\"room_type_booked_code_6\"] = room_type_booked_code_dummies[6]\n",
    "\n",
    "room_type_booked_code_dummies = room_type_booked_code_dummies.drop([3, 4, 2, 1, 5, 6],1)"
   ]
  },
  {
   "cell_type": "code",
   "execution_count": null,
   "metadata": {},
   "outputs": [],
   "source": [
    "##Giving the names to season_holidayed_codes to create the dummy variables\n",
    "data['season_holidayed_code'].unique()\n",
    "\n",
    "season_holidayed_code = data['season_holidayed_code'] \n",
    "\n",
    "season_holidayed_code = pd.DataFrame({\"season_holidayed_code\" :season_holidayed_code})\n",
    "\n",
    "season_holidayed_code_dummies = pd.get_dummies(season_holidayed_code['season_holidayed_code'])\n",
    "\n",
    "season_holidayed_code_dummies[\"season_holidayed_code_1\"] = season_holidayed_code_dummies[1.]\n",
    "season_holidayed_code_dummies[\"season_holidayed_code_2\"] = season_holidayed_code_dummies[2.]\n",
    "season_holidayed_code_dummies[\"season_holidayed_code_3\"] = season_holidayed_code_dummies[3.]\n",
    "season_holidayed_code_dummies[\"season_holidayed_code_4\"] = season_holidayed_code_dummies[4.]\n",
    "\n",
    "\n",
    "season_holidayed_code_dummies = season_holidayed_code_dummies.drop([ 2.,  3.,  4.,  1.],1)\n"
   ]
  },
  {
   "cell_type": "code",
   "execution_count": null,
   "metadata": {},
   "outputs": [],
   "source": [
    "data['state_code_resort'].unique()"
   ]
  },
  {
   "cell_type": "code",
   "execution_count": null,
   "metadata": {},
   "outputs": [],
   "source": [
    "##Giving the names to state_code_resorts to create the dummy variables\n",
    "list = data['state_code_resort'].unique().tolist()\n",
    "\n",
    "state_code_resort = data['state_code_resort'] \n",
    "\n",
    "state_code_resort = pd.DataFrame({\"state_code_resort\" :state_code_resort})\n",
    "\n",
    "state_code_resort_dummies = pd.get_dummies(state_code_resort['state_code_resort'])\n",
    "\n",
    "for x in list:\n",
    "    state_code_resort_dummies[\"state_code_resort_\" + str(x)] = state_code_resort_dummies[x]\n",
    "\n",
    "\n",
    "state_code_resort_dummies = state_code_resort_dummies.drop([ 3,  5,  1,  2,  6,  9, 10,  4, 11,  7, 13],1)"
   ]
  },
  {
   "cell_type": "code",
   "execution_count": null,
   "metadata": {},
   "outputs": [],
   "source": [
    "data['member_age_buckets'].unique()"
   ]
  },
  {
   "cell_type": "code",
   "execution_count": null,
   "metadata": {},
   "outputs": [],
   "source": [
    "##Giving the names to member_age_buckets to create the dummy variables\n",
    "list = data['member_age_buckets'].unique().tolist()\n",
    "\n",
    "member_age_buckets = data['member_age_buckets'] \n",
    "\n",
    "member_age_buckets = pd.DataFrame({\"member_age_buckets\" :member_age_buckets})\n",
    "\n",
    "member_age_buckets_dummies = pd.get_dummies(member_age_buckets['member_age_buckets'])\n",
    "\n",
    "for x in list:\n",
    "    member_age_buckets_dummies[\"member_age_buckets_\" + str(x)] = member_age_buckets_dummies[x]\n",
    "\n",
    "member_age_buckets_dummies = member_age_buckets_dummies.drop([ 'F', 'H', 'D', 'E', 'I', 'G', 'C', 'B', 'A', 'J'],1)"
   ]
  },
  {
   "cell_type": "code",
   "execution_count": null,
   "metadata": {},
   "outputs": [],
   "source": [
    "data['booking_type_code'].unique()"
   ]
  },
  {
   "cell_type": "code",
   "execution_count": null,
   "metadata": {},
   "outputs": [],
   "source": [
    "##Giving the names to booking type codes to create the dummy variables\n",
    "data['booking_type_code'].unique()\n",
    "\n",
    "booking_type_code  = data['booking_type_code'] \n",
    "\n",
    "booking_type_code = pd.DataFrame({\"booking_type_code\" : booking_type_code})\n",
    "\n",
    "booking_type_code_dummies = pd.get_dummies(booking_type_code['booking_type_code'])\n",
    "\n",
    "booking_type_code_dummies[\"booking_type_code_1\"] = booking_type_code_dummies[1]\n",
    "booking_type_code_dummies[\"booking_type_code_2\"] = booking_type_code_dummies[2]\n",
    "\n",
    "booking_type_code_dummies = booking_type_code_dummies.drop([1,2],1)"
   ]
  },
  {
   "cell_type": "code",
   "execution_count": null,
   "metadata": {},
   "outputs": [],
   "source": [
    "##Giving the names to cluster_code to create the dummy variables\n",
    "list = data['cluster_code'].unique().tolist()\n",
    "\n",
    "cluster_code = data['cluster_code'] \n",
    "\n",
    "cluster_code = pd.DataFrame({\"cluster_code\" :cluster_code})\n",
    "\n",
    "cluster_code_dummies = pd.get_dummies(cluster_code['cluster_code'])\n",
    "\n",
    "for x in list:\n",
    "    cluster_code_dummies[\"cluster_code_\" + str(x)] = cluster_code_dummies[x]\n",
    "\n",
    "\n",
    "cluster_code_dummies = cluster_code_dummies.drop([ 'F', 'E', 'D', 'B', 'A', 'C'],1)"
   ]
  },
  {
   "cell_type": "code",
   "execution_count": null,
   "metadata": {},
   "outputs": [],
   "source": [
    "data['reservationstatusid_code'].unique()"
   ]
  },
  {
   "cell_type": "code",
   "execution_count": null,
   "metadata": {},
   "outputs": [],
   "source": [
    "##Giving the names to reservationstatusid_code to create the dummy variables\n",
    "list = data['reservationstatusid_code'].unique().tolist()\n",
    "\n",
    "reservationstatusid_code= data['reservationstatusid_code'] \n",
    "\n",
    "reservationstatusid_code = pd.DataFrame({\"reservationstatusid_code\" :reservationstatusid_code})\n",
    "\n",
    "reservationstatusid_code_dummies = pd.get_dummies(reservationstatusid_code['reservationstatusid_code'])\n",
    "\n",
    "for x in list:\n",
    "    reservationstatusid_code_dummies[\"reservationstatusid_code_\" + str(x)] = reservationstatusid_code_dummies[x]\n",
    "\n",
    "\n",
    "reservationstatusid_code_dummies = reservationstatusid_code_dummies.drop([ 'D', 'B', 'A', 'C'],1)"
   ]
  },
  {
   "cell_type": "code",
   "execution_count": null,
   "metadata": {},
   "outputs": [],
   "source": [
    "data['resort_id'].unique()"
   ]
  },
  {
   "cell_type": "code",
   "execution_count": null,
   "metadata": {},
   "outputs": [],
   "source": [
    "import itertools"
   ]
  },
  {
   "cell_type": "code",
   "execution_count": null,
   "metadata": {},
   "outputs": [],
   "source": [
    "##Giving the names to reservationstatusid_code to create the dummy variables\n",
    "list = data['resort_id'].unique().tolist()\n",
    "\n",
    "resort_id= data['resort_id'] \n",
    "\n",
    "resort_id = pd.DataFrame({\"resort_id\" :resort_id})\n",
    "\n",
    "resort_id_dummies = pd.get_dummies(resort_id['resort_id'])\n",
    "\n",
    "for x,y in zip(list,range(len(list))):\n",
    "    resort_id_dummies[\"resort_id_\" + str(y)] = resort_id_dummies[x]\n",
    "\n",
    "\n",
    "resort_id_dummies = resort_id_dummies.drop(list,1)"
   ]
  },
  {
   "cell_type": "code",
   "execution_count": null,
   "metadata": {},
   "outputs": [],
   "source": [
    "ls = ['channel_dummies',\"main_product_code_dummies\",\"persontravellingid_dummies\",\"resort_region_code_dummies\",\n",
    "      \"resort_type_code_dummies\",\"room_type_booked_code_dummies\",\n",
    "      \"season_holidayed_code_dummies\",\"state_code_resort_dummies\",\"booking_type_code_dummies\",\"cluster_code_dummies\",\n",
    "      \"reservationstatusid_code_dummies\",\"resort_id_dummies\"]"
   ]
  },
  {
   "cell_type": "code",
   "execution_count": null,
   "metadata": {},
   "outputs": [],
   "source": [
    "type(booking_type_code_dummies)"
   ]
  },
  {
   "cell_type": "code",
   "execution_count": null,
   "metadata": {},
   "outputs": [],
   "source": [
    "train = pd.concat([data,channel_dummies,main_product_code_dummies,persontravellingid_dummies,resort_region_code_dummies,\n",
    "                   resort_type_code_dummies,room_type_booked_code_dummies,season_holidayed_code_dummies,\n",
    "                   state_code_resort_dummies,booking_type_code_dummies,member_age_buckets_dummies],axis =1)"
   ]
  },
  {
   "cell_type": "code",
   "execution_count": null,
   "metadata": {},
   "outputs": [],
   "source": [
    "train.shape"
   ]
  },
  {
   "cell_type": "code",
   "execution_count": null,
   "metadata": {},
   "outputs": [],
   "source": [
    "drop_list = ['reservation_id', 'booking_date', 'checkin_date', 'checkout_date','channel_code', 'main_product_code',\n",
    "            'persontravellingid', 'resort_region_code','resort_type_code', 'room_type_booked_code','season_holidayed_code', \n",
    "             'state_code_residence', 'state_code_resort', 'booking_type_code', 'memberid',\n",
    "       'cluster_code', 'reservationstatusid_code', 'resort_id','member_age_buckets']\n",
    "\n",
    "train = train.drop(drop_list,axis =1)"
   ]
  },
  {
   "cell_type": "code",
   "execution_count": null,
   "metadata": {},
   "outputs": [],
   "source": [
    "train['days_between_booking_checkin']"
   ]
  },
  {
   "cell_type": "code",
   "execution_count": null,
   "metadata": {},
   "outputs": [],
   "source": [
    "y = train['amount_spent_per_room_night_scaled']\n",
    "x = train.drop(['amount_spent_per_room_night_scaled'],axis =1)"
   ]
  },
  {
   "cell_type": "markdown",
   "metadata": {},
   "source": [
    "### model development"
   ]
  },
  {
   "cell_type": "code",
   "execution_count": null,
   "metadata": {},
   "outputs": [],
   "source": [
    "from sklearn.model_selection import train_test_split"
   ]
  },
  {
   "cell_type": "code",
   "execution_count": null,
   "metadata": {},
   "outputs": [],
   "source": [
    "from sklearn.linear_model import LinearRegression"
   ]
  },
  {
   "cell_type": "code",
   "execution_count": null,
   "metadata": {
    "scrolled": true
   },
   "outputs": [],
   "source": [
    " X_train, X_test, y_train, y_test = train_test_split(x, y, test_size=0.30, random_state=42)"
   ]
  },
  {
   "cell_type": "code",
   "execution_count": null,
   "metadata": {},
   "outputs": [],
   "source": [
    "reg = LinearRegression().fit(X_train,y_train)"
   ]
  }
 ],
 "metadata": {
  "kernelspec": {
   "display_name": "Python 3",
   "language": "python",
   "name": "python3"
  },
  "language_info": {
   "codemirror_mode": {
    "name": "ipython",
    "version": 3
   },
   "file_extension": ".py",
   "mimetype": "text/x-python",
   "name": "python",
   "nbconvert_exporter": "python",
   "pygments_lexer": "ipython3",
   "version": "3.6.5"
  }
 },
 "nbformat": 4,
 "nbformat_minor": 2
}
